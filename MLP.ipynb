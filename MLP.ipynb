{
 "cells": [
  {
   "cell_type": "markdown",
   "metadata": {},
   "source": [
    "# COMP5329: Assignment 1 Code"
   ]
  },
  {
   "cell_type": "markdown",
   "metadata": {},
   "source": [
    "## Team member 2  Name: Dongqi Xu SID: 480529282 unikey: doxu4474"
   ]
  },
  {
   "cell_type": "markdown",
   "metadata": {},
   "source": [
    "## Team member 1  Name: Yujun Liu   SID:480422097 unikey: yliu7078"
   ]
  },
  {
   "cell_type": "markdown",
   "metadata": {},
   "source": [
    "# 1. Initial setup and data load"
   ]
  },
  {
   "cell_type": "markdown",
   "metadata": {},
   "source": [
    "### 1.1 Import libraries"
   ]
  },
  {
   "cell_type": "code",
   "execution_count": 1,
   "metadata": {},
   "outputs": [
    {
     "name": "stderr",
     "output_type": "stream",
     "text": [
      "D:\\anaconda\\lib\\site-packages\\h5py\\__init__.py:36: FutureWarning: Conversion of the second argument of issubdtype from `float` to `np.floating` is deprecated. In future, it will be treated as `np.float64 == np.dtype(float).type`.\n",
      "  from ._conv import register_converters as _register_converters\n"
     ]
    }
   ],
   "source": [
    "import h5py                     # To read the raw datasets\n",
    "import numpy as np              # To do linear algebra \n",
    "import matplotlib.pyplot as pl  # To plot \n",
    "from time import time           # To calculate the timing\n",
    "import seaborn as sns"
   ]
  },
  {
   "cell_type": "markdown",
   "metadata": {},
   "source": [
    "# 2. Load and Preprocessing Data"
   ]
  },
  {
   "cell_type": "markdown",
   "metadata": {},
   "source": [
    "## 2.1 Load Raw Data"
   ]
  },
  {
   "cell_type": "code",
   "execution_count": 2,
   "metadata": {},
   "outputs": [
    {
     "name": "stdout",
     "output_type": "stream",
     "text": [
      "(50000, 128)\n",
      "(50000,)\n",
      "(10000, 128)\n",
      "(10000,)\n"
     ]
    }
   ],
   "source": [
    "with h5py.File('train_128.h5','r') as H:\n",
    "    data = np.copy(H['data'])[0:50000]\n",
    "with h5py.File('train_label.h5','r') as H:\n",
    "    label = np.copy(H['label'])[0:50000]\n",
    "    \n",
    "with h5py.File('train_128.h5','r') as H:\n",
    "    test_data = np.copy(H['data'])[50000:]\n",
    "with h5py.File('train_label.h5','r') as H:\n",
    "    test_label = np.copy(H['label'])[50000:]\n",
    "    \n",
    "    \n",
    "with h5py.File(\"test_128.h5\",'r') as H:\n",
    "    pred_data = np.copy(H['data'])[:100]\n",
    "    \n",
    "print(data.shape)\n",
    "print(label.shape)\n",
    "print(test_data.shape)\n",
    "print(test_label.shape)\n"
   ]
  },
  {
   "cell_type": "markdown",
   "metadata": {},
   "source": [
    "## 2.2 See the training data label distribution"
   ]
  },
  {
   "cell_type": "code",
   "execution_count": 3,
   "metadata": {},
   "outputs": [
    {
     "data": {
      "image/png": "[encoded data removed]",
      "text/plain": [
       "<Figure size 360x360 with 1 Axes>"
      ]
     },
     "metadata": {},
     "output_type": "display_data"
    }
   ],
   "source": [
    "pl.figure(figsize=(5,5))\n",
    "sns.set(style='white')\n",
    "ax_label = sns.countplot(y = label, palette=\"RdBu\")\n",
    "ax_label.set(ylabel = 'Label', xlabel = 'Count')\n",
    "pl.show()"
   ]
  },
  {
   "cell_type": "markdown",
   "metadata": {},
   "source": [
    "## 2.3 Preprocessing data"
   ]
  },
  {
   "cell_type": "markdown",
   "metadata": {},
   "source": [
    "### We transform the data to array type. Then normalize the input data by $x_i=\\frac{x_i-\\mu}{\\delta}$. Finally transform data into one-hot label."
   ]
  },
  {
   "cell_type": "code",
   "execution_count": 4,
   "metadata": {},
   "outputs": [
    {
     "name": "stdout",
     "output_type": "stream",
     "text": [
      "9\n",
      "9\n",
      "[0. 0. 0. 0. 0. 0. 0. 0. 0. 1.]\n",
      "[0. 0. 0. 0. 0. 0. 0. 0. 0. 1.]\n"
     ]
    }
   ],
   "source": [
    "print(label[0])\n",
    "print(test_label[0])\n",
    "label = np.array(np.eye(10)[label.reshape(-1)], dtype=float)\n",
    "test_label = np.array(np.eye(10)[test_label.reshape(-1)], dtype=float)\n",
    "print(label[0])\n",
    "print(test_label[0])"
   ]
  },
  {
   "cell_type": "code",
   "execution_count": 5,
   "metadata": {},
   "outputs": [],
   "source": [
    "def normalize(input_data):\n",
    "    \n",
    "    mu = input_data.mean()\n",
    "    sigma = input_data.std()\n",
    "    normalized_data = (input_data - mu) / sigma\n",
    "    \n",
    "    return normalized_data\n",
    "\n",
    "#print(data[0])\n",
    "data = normalize(data)\n",
    "test_data = normalize(test_data)\n",
    "pred_data = normalize(pred_data)\n",
    "#print(data[0])"
   ]
  },
  {
   "cell_type": "code",
   "execution_count": 6,
   "metadata": {},
   "outputs": [],
   "source": [
    "train_data = np.array(data, dtype=float)\n",
    "test_data = np.array(test_data, dtype=float)\n",
    "train_label = np.array(label, dtype=float)\n",
    "test_label= np.array(test_label, dtype=float)\n",
    "pred_data = np.array(pred_data, dtype=float)"
   ]
  },
  {
   "cell_type": "markdown",
   "metadata": {},
   "source": [
    "# 3. Main Classes"
   ]
  },
  {
   "cell_type": "markdown",
   "metadata": {},
   "source": [
    "## 3.1 Activation class"
   ]
  },
  {
   "cell_type": "code",
   "execution_count": 7,
   "metadata": {},
   "outputs": [],
   "source": [
    "class Activation:\n",
    "    \n",
    "    def __init__(self, activation='relu'):            \n",
    "        if activation == 'tanh':\n",
    "            self.f = self.__tanh\n",
    "            self.f_deriv = self.__tanh_deriv\n",
    "\n",
    "        if activation == 'relu':\n",
    "            self.f = self.__relu\n",
    "            self.f_deriv = self.__relu_deriv\n",
    "        if activation == 'leaky relu':\n",
    "            self.f = self.leaky_relu\n",
    "            self.f_deriv = self.leaky_relu_deriv\n",
    "    \n",
    "    def __tanh(self, x):\n",
    "        return np.tanh(x)\n",
    "    \n",
    "    def leaky_relu (self,x):\n",
    "        return np.maximum(x,0.1*x)  \n",
    "\n",
    "    def leaky_relu_deriv (self,a):\n",
    "        # a = np.maximum(x,0.1*x)\n",
    "        a[a<0] = 0.1\n",
    "        a[a>=0] = 1\n",
    "        return a\n",
    "\n",
    "    def __tanh_deriv(self, a):\n",
    "        return 1.0 - a**2\n",
    "\n",
    "    def __relu(self, x):\n",
    "        x = x*(x>0)\n",
    "        return x\n",
    "\n",
    "    def __relu_deriv(self, a):\n",
    "        a = 1.0*(a>0)\n",
    "        return a  "
   ]
  },
  {
   "cell_type": "markdown",
   "metadata": {},
   "source": [
    "## 3.2 Input and output layer classes"
   ]
  },
  {
   "cell_type": "markdown",
   "metadata": {},
   "source": [
    "### Due to convinent for forward and backward propogation processing of input and output layer, we create a class for input and output layer"
   ]
  },
  {
   "cell_type": "code",
   "execution_count": 8,
   "metadata": {},
   "outputs": [],
   "source": [
    "class IO_Layer:\n",
    "    def __init__(self, n_in, n_out, W=None, b=None, activation='relu'):\n",
    "        self.input = None\n",
    "        self.activation = Activation(activation).f\n",
    "        self.activation_deriv = Activation(activation).f_deriv\n",
    "\n",
    "        # Kaiming He initialization \n",
    "        self.W = np.random.randn(n_in, n_out) * np.sqrt(2.0 / n_in) # w is to N(mean = 0, std = sqrt( 2.0 / fan_in))\n",
    "        self.b = np.zeros(n_out,)\n",
    "        self.n_in = n_in\n",
    "        self.n_out = n_out\n",
    "\n",
    "        self.grad_W = np.zeros(self.W.shape)\n",
    "        self.grad_b = np.zeros(self.b.shape)\n",
    "        \n",
    "        self.velocity_W = np.zeros(self.W.shape)\n",
    "        self.velocity_b = np.zeros(self.b.shape)\n",
    "        \n",
    "        self.sqr_grad_W = np.zeros(self.W.shape) \n",
    "        self.sqr_grad_b = np.zeros(self.b.shape)        \n",
    "        \n",
    "        \n",
    "\n",
    "    # create initial parameters for each layer \n",
    "    def forward(self, input):\n",
    "\n",
    "        lin_output = np.dot(input, self.W) + self.b\n",
    "        self.output = (lin_output if self.activation is None else self.activation(lin_output))\n",
    "        self.input = input\n",
    "        return self.output\n",
    "    \n",
    "    # to predict unlabele   \n",
    "    def forward_predict(self, input):\n",
    "    \n",
    "        lin_output = np.dot(input, self.W) + self.b\n",
    "        self.output = (lin_output if self.activation is None else self.activation(lin_output))\n",
    "        self.input = input\n",
    "        return self.output\n",
    "\n",
    "    def backward(self, delta):\n",
    "        self.grad_W = np.atleast_2d(self.input).T.dot(np.atleast_2d(delta))\n",
    "        self.grad_b = np.sum(delta)\n",
    "        delta_ = delta.dot(self.W.T) * self.activation_deriv(self.input)\n",
    "        # return delta_ for next layer\n",
    "        return delta_\n",
    "    \n",
    "    "
   ]
  },
  {
   "cell_type": "markdown",
   "metadata": {},
   "source": [
    "## 3.3 Hidden Layer Class"
   ]
  },
  {
   "cell_type": "code",
   "execution_count": 9,
   "metadata": {},
   "outputs": [],
   "source": [
    "class HiddenLayer:\n",
    "    def __init__(self, n_in, n_out, W=None, b=None, activation='relu', \n",
    "                 dropout=False, weight_decay=False):\n",
    "        \n",
    "        self.input = None\n",
    "        self.activation = Activation(activation).f\n",
    "        self.activation_deriv = Activation(activation).f_deriv\n",
    "        \n",
    "        self.W = np.random.randn(n_in, n_out) * np.sqrt(1.0 / n_in)\n",
    "        self.b = np.zeros(n_out,)\n",
    "        self.n_in = n_in\n",
    "        self.n_out = n_out\n",
    "        \n",
    "        #to set dropout P\n",
    "        self.dropout = 1-dropout\n",
    "        #whether do weight_decay\n",
    "        self.weight_decay = weight_decay\n",
    "        \n",
    "        #parameters for GD\n",
    "        self.grad_W = np.zeros(self.W.shape)\n",
    "        self.grad_b = np.zeros(self.b.shape)\n",
    "        \n",
    "        #parameters for momentum and adam\n",
    "        self.velocity_W = np.zeros(self.W.shape)\n",
    "        self.velocity_b = np.zeros(self.b.shape)\n",
    "        \n",
    "        self.sqr_grad_W = np.zeros(self.W.shape) \n",
    "        self.sqr_grad_b = np.zeros(self.b.shape)        \n",
    "\n",
    "        # parameters for BN\n",
    "        self.gamma_BN = np.ones((1, n_in))\n",
    "        self.beta_BN = 0 \n",
    "        self.grad_gamma_BN = np.ones(self.gamma_BN.shape)\n",
    "        self.grad_beta_BN = 0 \n",
    "        self.BN_mean_total = []\n",
    "        self.BN_var_total = []\n",
    "    \n",
    "\n",
    "    def forward(self, input,BN=False):\n",
    "        \n",
    "        # pass output to next layer\n",
    "        lin_output = np.dot(input, self.W) + self.b\n",
    "        self.output = (lin_output if self.activation is None else self.activation(lin_output))\n",
    "        self.input = input\n",
    "        if self.dropout is True:\n",
    "            \n",
    "            prob = np.random.binomial(1,self.dropout,size=self.W)\n",
    "            self.output *= prob\n",
    "        \n",
    "        \n",
    "        if BN is True:\n",
    "            input_mean = input.mean(axis=0, keepdims=True)\n",
    "            input_var = input.var(axis=0, keepdims=True)\n",
    "            input = (input - input_mean) / np.sqrt(input_var + 1e-5)\n",
    "            input = input * self.gamma_BN + self.beta_BN\n",
    "            self.BN_mean_total.append(input_mean)\n",
    "            self.BN_var_total.append(input_var)            \n",
    "               \n",
    "        return self.output\n",
    "\n",
    "    def forward_predict(self, input,BN=False):\n",
    "        if BN is True:\n",
    "            input_mean = np.mean(self.BN_mean_total)\n",
    "            input_var = np.mean(self.BN_var_total)\n",
    "            input = (input - input_mean) / np.sqrt(input_var + 1e-5)\n",
    "            input = input * self.gamma_BN + self.beta_BN\n",
    "                    \n",
    "        lin_output = np.dot(input, self.W) + self.b\n",
    "        self.output = (lin_output if self.activation is None else self.activation(lin_output))\n",
    "        self.input = input\n",
    "        return self.output\n",
    "\n",
    "    def backward(self, delta,BN=False):\n",
    "\n",
    "        self.grad_W = np.atleast_2d(self.input).T.dot(np.atleast_2d(delta))\n",
    "        self.grad_b = np.sum(delta)\n",
    " \n",
    "        delta_ = delta.dot(self.W.T) * self.activation_deriv(self.input)\n",
    "    \n",
    "        if BN is True:\n",
    "            self.grad_gamma_BN = np.mean(delta_, axis=0, keepdims=True) * self.gamma_BN\n",
    "            self.grad_beta_BN = np.mean(delta_)\n",
    "        \n",
    "            delta_ = delta_ * self.gamma_BN    \n",
    "        return delta_\n"
   ]
  },
  {
   "cell_type": "markdown",
   "metadata": {},
   "source": [
    "## 3.4 Main Class"
   ]
  },
  {
   "cell_type": "code",
   "execution_count": 10,
   "metadata": {},
   "outputs": [],
   "source": [
    "class MLP:\n",
    "    def __init__(self, input_layers, hidden_layers, output_layers, activation='leaky relu',softmax=False,\n",
    "                 dropout=False, weight_decay=False):\n",
    "        \n",
    "        # create list to store all parameters\n",
    "        self.layers = []\n",
    "        self.params = []\n",
    "\n",
    "        self.activation = activation\n",
    "        self.softmax = softmax\n",
    "        \n",
    "        # set whether implement weight decay and init\n",
    "        self.weight_decay = weight_decay\n",
    "        if weight_decay is True:\n",
    "            print(\"Using weight_decay\")\n",
    "\n",
    "\n",
    "\n",
    "        # create input layer\n",
    "        self.layers.append(IO_Layer(input_layers, hidden_layers[0], activation=activation))\n",
    "        # add hidden layers\n",
    "        for i in range(len(hidden_layers) - 1):\n",
    "            self.layers.append(HiddenLayer(hidden_layers[i], hidden_layers[i + 1], activation=activation, dropout=dropout,\n",
    "                                          weight_decay=self.weight_decay))\n",
    "        # add output layer\n",
    "        self.layers.append(IO_Layer(hidden_layers[-1], output_layers, activation=activation))\n",
    "        print(\"===============================================\")\n",
    "        print(\"Defaultly calculte cross-entropy-loss of output\")\n",
    "        print(\"===============================================\")\n",
    "    def forward(self, input):\n",
    "        for layer in self.layers:\n",
    "            output = layer.forward(input)\n",
    "            input = output\n",
    "        return output\n",
    "\n",
    "    def forward_predict(self, input):\n",
    "        # only use it in predict\n",
    "        for layer in self.layers:\n",
    "            output = layer.forward_predict(input)\n",
    "            input = output\n",
    "        return output\n",
    "\n",
    "    def criterion(self, y, y_hat):\n",
    "        if not self.softmax:\n",
    "            activation_deriv = Activation(self.activation).f_deriv\n",
    "            error = y - y_hat\n",
    "            loss = error**2 \n",
    "            delta = -error * activation_deriv(y_hat) / 512\n",
    "            \n",
    "            loss = np.sum(loss)\n",
    "            \n",
    "        if self.softmax:\n",
    "            y_ = np.exp(y_hat-np.max(y_hat,axis=1,keepdims=True))\n",
    "            y_hat = y_ / (np.sum(y_, axis=1, keepdims=True))\n",
    "             \n",
    "            loss = -np.sum(y*(np.log(y_hat)))\n",
    "            delta =  -(y-y_hat)/512           \n",
    "            #print(loss,delta)\n",
    "        return loss, delta\n",
    "\n",
    "    def backward(self, delta):\n",
    "        for layer in reversed(self.layers):\n",
    "            delta = layer.backward(delta)\n",
    "\n",
    "    def update(self,learning_rate=0.001,it=0,BN=False):\n",
    "        if BN is True:\n",
    "            layer.gamma_BN -= lr * layer.grad_gamma_BN\n",
    "            layer.beta_BN -= lr * layer.grad_beta_BN            \n",
    "            layer.velocity_W = gamma_MT * layer.velocity_W + lr * layer.grad_W\n",
    "            layer.W -= layer.velocity_W\n",
    "            layer.velocity_b = gamma_MT * layer.velocity_b + lr * layer.grad_b\n",
    "            layer.b -= layer.velocity_b      \n",
    "\n",
    "        for layer in self.layers:\n",
    "            if self.weight_decay:\n",
    "            #L_new_W=L_old_W+0.5*lambda||W||**2  -> W-grad_W = W - learning_rate*(delta+lambda*W) -> (1-laerning_rate*lambda)*W-delta\n",
    "            #W = W*(1-laerning_rate*lambda)  \n",
    "                layer.W *= (1-learning_rate*self.weight_decay) \n",
    "            # Momentum\n",
    "            if self.optimizer == 'momentum':\n",
    "                \n",
    "                beta=0.9\n",
    "                layer.velocity_W = beta*layer.velocity_W + (learning_rate)*layer.grad_W\n",
    "                layer.velocity_b = beta*layer.velocity_b + (learning_rate)*layer.grad_b\n",
    "                # Update \n",
    "                layer.W -= layer.velocity_W\n",
    "                layer.b -= layer.velocity_b \n",
    "            # Adam\n",
    "            elif self.optimizer == 'adam':\n",
    "                #layer.adam_update(learning_rate,it)\n",
    "                t = it\n",
    "                beta1=0.9\n",
    "                beta2=0.999\n",
    "                epsilon=1e-3\n",
    "                # Update m\n",
    "                layer.velocity_W = beta1*layer.velocity_W + (1-beta1)*layer.grad_W\n",
    "                layer.velocity_b = beta1*layer.velocity_b + (1-beta1)*layer.grad_b\n",
    "\n",
    "                # Calculate  v\n",
    "                layer.sqr_grad_W = beta2 * layer.sqr_grad_W + (1-beta2) * np.power(layer.grad_W,2)\n",
    "                layer.sqr_grad_b = beta2 * layer.sqr_grad_b + (1-beta2) * np.power(layer.grad_b,2)\n",
    "        \n",
    "                # Correct m_hat\n",
    "                velocity_corrected_W = layer.velocity_W / (1-beta1**(t+1)) \n",
    "                velocity_corrected_b = layer.velocity_b / (1-beta1**(t+1))  \n",
    "\n",
    "                # Correct v_hat\n",
    "                sqr_grad_corrected_W = layer.sqr_grad_W / (1-beta2**(t+1)) \n",
    "                sqr_grad_corrected_b = layer.sqr_grad_b / (1-beta2**(t+1))          \n",
    "        \n",
    "                # Update\n",
    "                layer.W -= learning_rate * (velocity_corrected_W/(np.sqrt(sqr_grad_corrected_W+epsilon)))# added epsilon \n",
    "                layer.b -= learning_rate * (velocity_corrected_b/(np.sqrt(sqr_grad_corrected_b+epsilon))) # added epsilon  \n",
    "            \n",
    "            else:\n",
    "                layer.W -= learning_rate * layer.grad_W\n",
    "                layer.b -= learning_rate * layer.grad_b\n",
    "            \n",
    "\n",
    "    # mini batch training\n",
    "    def mini_batches_random(self, X, y, mini_batch_size):\n",
    "        # create mini-batches for each epoch, randomly choose elements for batches\n",
    "        num_samples = X.shape[0]\n",
    "        mini_batches = []\n",
    "\n",
    "        permutation = list(np.random.permutation(num_samples))\n",
    "        rand_X = X[permutation, :]\n",
    "        rand_y = y[permutation, :]\n",
    "\n",
    "        num_complete = num_samples // mini_batch_size\n",
    "\n",
    "        for i in range(num_complete):\n",
    "            mini_batch_X = rand_X[i * mini_batch_size: (i + 1) * mini_batch_size, :]\n",
    "            mini_batch_y = rand_y[i * mini_batch_size: (i + 1) * mini_batch_size, :]\n",
    "\n",
    "            mini_batch = (mini_batch_X, mini_batch_y)\n",
    "            mini_batches.append(mini_batch)\n",
    "\n",
    "        if num_samples % mini_batch_size != 0:\n",
    "            mini_batch_X = rand_X[num_complete * mini_batch_size:, :]\n",
    "            mini_batch_y = rand_y[num_complete * mini_batch_size:, :]\n",
    "\n",
    "            mini_batch = (mini_batch_X, mini_batch_y)\n",
    "            mini_batches.append(mini_batch)\n",
    "        return mini_batches\n",
    "    \n",
    "    def fit(self, X, y, learning_rate=0.1, epochs=100, gd='mini_batch', mini_batch_size=64, optimizer=None,BN=False):\n",
    "        X = np.array(X)\n",
    "        y = np.array(y)\n",
    "        \n",
    "        self.optimizer = optimizer\n",
    "        self.BN=BN\n",
    "        epochs += 1 # to revise the range of epochs, plus 1 for modification\n",
    "        to_return = np.zeros(epochs)\n",
    "        \n",
    "        if gd == 'SGD':\n",
    "            for k in range(epochs):\n",
    "                loss = 0\n",
    "                i = np.random.randint(X.shape[0])\n",
    "                # forward pass\n",
    "                y_hat = self.forward(X[i])\n",
    "                # backward pass\n",
    "                loss, delta = self.criterion(y[i], y_hat)\n",
    "                self.backward(delta)\n",
    "                # update\n",
    "                self.update(learning_rate, momentum, gamma_MT)\n",
    "                to_return[k] = np.mean(loss)\n",
    "                if k%500 == 0 and k!=0:\n",
    "                    print(\"the epoch {} loss: {}\".format(str(k), to_return[k]))\n",
    "\n",
    "        # Implement Mini Batch\n",
    "        if gd == 'mini_batch':\n",
    "            for k in range(epochs):\n",
    "                loss = np.zeros(X.shape[0])\n",
    "                mini_batches = self.mini_batches_random(X, y, mini_batch_size)\n",
    "\n",
    "                for it, mini_batch in enumerate(mini_batches):\n",
    "                    loss_it = 0\n",
    "                    (mini_batch_X, mini_batch_y) = mini_batch\n",
    "                    \n",
    "                    y_hat = self.forward(mini_batch_X)\n",
    "                    \n",
    "                    loss_it, delta = self.criterion(mini_batch_y, y_hat)\n",
    "                    loss[it] = np.mean(loss_it)\n",
    "                    \n",
    "                    self.backward(delta)\n",
    "                    self.update(learning_rate,it)\n",
    "\n",
    "                    to_return[k] = np.mean(loss)\n",
    "                # print loss of epochs\n",
    "                if k%2 == 0 and k!=0:\n",
    "                    print(\"the epoch {} loss: {}\".format(str(k), to_return[k]))\n",
    "                    \n",
    "        return to_return\n",
    "\n",
    "    def predict(self, x, model):\n",
    "        x = np.array(x)\n",
    "        output = model.forward_predict(x)\n",
    "        if self.softmax is True:\n",
    "            x = np.array(x)\n",
    "            output = model.forward_predict(x)\n",
    "            exps_out = np.exp(output-np.max(x,axis=1,keepdims=True))\n",
    "            output = exps_out / (np.sum(exps_out, axis=1, keepdims=True))\n",
    "\n",
    "        return output"
   ]
  },
  {
   "cell_type": "markdown",
   "metadata": {},
   "source": [
    "## 4.Classifier Development, Training and Analysis"
   ]
  },
  {
   "cell_type": "code",
   "execution_count": 11,
   "metadata": {},
   "outputs": [
    {
     "name": "stdout",
     "output_type": "stream",
     "text": [
      "===============================================\n",
      "Defaultly calculte cross-entropy-loss of output\n",
      "===============================================\n",
      "the epoch 2 loss: 0.6374233309804971\n",
      "the epoch 4 loss: 0.5505936166952546\n",
      "the epoch 6 loss: 0.5038026519347868\n",
      "the epoch 8 loss: 0.47233821518874547\n",
      "the epoch 10 loss: 0.45064557097634655\n",
      "the epoch 12 loss: 0.43392706213689897\n",
      "the epoch 14 loss: 0.4202742864411453\n",
      "the epoch 16 loss: 0.4090172792156234\n",
      "the epoch 18 loss: 0.4003388217637358\n",
      "the epoch 20 loss: 0.3915179671515108\n",
      "the epoch 22 loss: 0.38422388358649684\n",
      "the epoch 24 loss: 0.3790088455463915\n",
      "the epoch 26 loss: 0.37333461093400155\n",
      "the epoch 28 loss: 0.3664700480770211\n",
      "the epoch 30 loss: 0.36120395314799186\n",
      "the epoch 32 loss: 0.35683175141674484\n",
      "the epoch 34 loss: 0.35246010011700024\n",
      "the epoch 36 loss: 0.3489648770959026\n",
      "the epoch 38 loss: 0.34450362113575334\n",
      "the epoch 40 loss: 0.3404852577513173\n",
      "the epoch 42 loss: 0.33801773263714147\n",
      "the epoch 44 loss: 0.3344143228133715\n",
      "the epoch 46 loss: 0.33084854931742047\n",
      "the epoch 48 loss: 0.32766776881879317\n",
      "the epoch 50 loss: 0.325198963481388\n",
      "the epoch 52 loss: 0.322547770608325\n",
      "the epoch 54 loss: 0.3196699730772464\n",
      "the epoch 56 loss: 0.31705152085155985\n",
      "the epoch 58 loss: 0.3151096433275784\n",
      "the epoch 60 loss: 0.31239886827597496\n",
      "the epoch 62 loss: 0.30987665597528097\n",
      "the epoch 64 loss: 0.3079443943067971\n",
      "the epoch 66 loss: 0.30560243114627733\n",
      "the epoch 68 loss: 0.30349749930900743\n",
      "the epoch 70 loss: 0.30123894692516334\n",
      "the epoch 72 loss: 0.29955902448632393\n",
      "the epoch 74 loss: 0.29857136664553574\n",
      "the epoch 76 loss: 0.2954509337285527\n",
      "the epoch 78 loss: 0.2943587843068059\n",
      "the epoch 80 loss: 0.29212494097629826\n",
      "the epoch 82 loss: 0.2906205888218602\n",
      "the epoch 84 loss: 0.2889818764758982\n",
      "the epoch 86 loss: 0.287687229812888\n",
      "the epoch 88 loss: 0.28626243174478483\n",
      "the epoch 90 loss: 0.28339228478439604\n",
      "the epoch 92 loss: 0.28224035728574703\n",
      "the epoch 94 loss: 0.28030287310397195\n",
      "the epoch 96 loss: 0.27994554867130145\n",
      "the epoch 98 loss: 0.2774571320741271\n",
      "the epoch 100 loss: 0.27666037470778015\n",
      "---------------------------------\n",
      "\n",
      "last loss:0.276660\n",
      "===============================================\n",
      "Fit time: 27.359985 seconds\n",
      "===============================================\n"
     ]
    },
    {
     "data": {
      "image/png": "[encoded data removed]",
      "text/plain": [
       "<Figure size 432x288 with 1 Axes>"
      ]
     },
     "metadata": {},
     "output_type": "display_data"
    }
   ],
   "source": [
    "start_time = time()\n",
    "\n",
    "nn = MLP(128, [100, 64, 32], 10, 'relu', dropout=False,softmax=True,weight_decay=0) \n",
    "\n",
    "CROSS_E = nn.fit(data,label, learning_rate=0.02, epochs=100, gd='mini_batch', mini_batch_size=512,optimizer= None ,BN= False)\n",
    "\n",
    "print(\"---------------------------------\\n\")\n",
    "print('last loss:%f' % CROSS_E[-1])\n",
    "\n",
    "end_time = time()\n",
    "print(\"===============================================\")\n",
    "print(\"Fit time: %2f seconds\" % (end_time - start_time))\n",
    "print(\"===============================================\")\n",
    "pl.figure()\n",
    "pl.title('loss curve') \n",
    "pl.plot(CROSS_E, color=\"navy\")\n",
    "pl.grid()\n",
    "pl.show()"
   ]
  },
  {
   "cell_type": "markdown",
   "metadata": {},
   "source": [
    "## 4.1. Calculate testing accuracy function"
   ]
  },
  {
   "cell_type": "code",
   "execution_count": 12,
   "metadata": {},
   "outputs": [],
   "source": [
    "def calculateAcc(pred_label, real_label):\n",
    "    acc_num = 0\n",
    "    for i in range(len(pred_label)):\n",
    "        if pred_label[i].tolist() == real_label[i].tolist():\n",
    "            acc_num += 1\n",
    "            #print(pred_label[i],real_label[i])\n",
    "        #if pred_label[i].tolist() != real_label[i].tolist():\n",
    "            #print(pred_label[i],real_label[i])\n",
    "    print(\"number of correct prediction : \",acc_num)\n",
    "    acc = acc_num / len(real_label)\n",
    "    print(\"the accuracy is: {:.4%}\".format(float(acc)))\n",
    "    return acc"
   ]
  },
  {
   "cell_type": "code",
   "execution_count": 13,
   "metadata": {},
   "outputs": [],
   "source": [
    "def predict_data(test_data, model):\n",
    "    predictLabel = model.predict(test_data, model)\n",
    "    predict_array = np.array(predictLabel)\n",
    "    #print(predict_array)\n",
    "    predictLabel = (predict_array == predict_array.max(axis=1, keepdims=1)).astype(float)\n",
    "\n",
    "    return predictLabel"
   ]
  },
  {
   "cell_type": "code",
   "execution_count": 14,
   "metadata": {},
   "outputs": [
    {
     "name": "stdout",
     "output_type": "stream",
     "text": [
      "number of correct prediction :  8775\n",
      "the accuracy is: 87.7500%\n"
     ]
    }
   ],
   "source": [
    "pred_label_test = predict_data(test_data, nn)\n",
    "acc = calculateAcc(pred_label_test, test_label)\n",
    "# show the accuracy rate of sorting test data \n",
    "#pred_label"
   ]
  },
  {
   "cell_type": "markdown",
   "metadata": {},
   "source": [
    "## 4.2. Build confusion matrix functions"
   ]
  },
  {
   "cell_type": "code",
   "execution_count": 15,
   "metadata": {},
   "outputs": [
    {
     "name": "stdout",
     "output_type": "stream",
     "text": [
      "10000\n"
     ]
    }
   ],
   "source": [
    "test_pred_list = []\n",
    "for one_hot_label in pred_label_test.tolist():\n",
    "    #print(one_hot_label)\n",
    "    test_label1 = one_hot_label.index(max(one_hot_label))\n",
    "    test_pred_list.append(test_label1)\n",
    "print(len(test_pred_list))"
   ]
  },
  {
   "cell_type": "code",
   "execution_count": 16,
   "metadata": {},
   "outputs": [
    {
     "name": "stdout",
     "output_type": "stream",
     "text": [
      "[9 2 1 0 2 7 9 3 1 1]\n",
      "[9, 2, 1, 0, 2, 7, 9, 3, 1, 1]\n"
     ]
    }
   ],
   "source": [
    "with h5py.File('train_label.h5','r') as H:\n",
    "    test_label_raw = np.copy(H['label'])[50000:]\n",
    "\n",
    "print(test_label_raw[:10])\n",
    "print(test_pred_list[:10])"
   ]
  },
  {
   "cell_type": "code",
   "execution_count": 17,
   "metadata": {},
   "outputs": [],
   "source": [
    "def build_confusion_matrix(testLabel, realLabel):\n",
    "    from sklearn.metrics import confusion_matrix\n",
    "    #only import that labrary for drawing confusion matrix\n",
    "    CM = confusion_matrix(testLabel, realLabel, labels=np.array(range(10)))\n",
    "    fig, ax = pl.subplots(figsize=(10,8))\n",
    "    fig.suptitle(\"Confusion Matrix\", fontsize=20)\n",
    "    heatmap = ax.pcolor(CM, cmap=pl.cm.Blues)\n",
    "\n",
    "    ax.set_xticks(np.arange(CM.shape[1]) + 0.5, minor=False)\n",
    "    ax.set_yticks(np.arange(CM.shape[0]) + 0.5, minor=False)\n",
    "    ax.invert_yaxis()\n",
    "    ax.xaxis.tick_top()\n",
    "    fig.colorbar(heatmap)\n",
    "    ax.set_xticklabels(np.array(range(10)), minor=False)\n",
    "    ax.set_yticklabels(np.array(range(10)), minor=False)\n",
    "    pl.show()"
   ]
  },
  {
   "cell_type": "code",
   "execution_count": 18,
   "metadata": {},
   "outputs": [
    {
     "data": {
      "image/png": "[encoded data removed]",
      "text/plain": [
       "<Figure size 720x576 with 2 Axes>"
      ]
     },
     "metadata": {},
     "output_type": "display_data"
    }
   ],
   "source": [
    " build_confusion_matrix(test_pred_list,test_label_raw)"
   ]
  },
  {
   "cell_type": "markdown",
   "metadata": {},
   "source": [
    "## 5. Prediction"
   ]
  },
  {
   "cell_type": "code",
   "execution_count": 19,
   "metadata": {
    "scrolled": true
   },
   "outputs": [
    {
     "name": "stdout",
     "output_type": "stream",
     "text": [
      "[9, 2, 1, 1, 6, 1, 4, 6, 5, 7, 4, 5, 7, 3, 4, 1, 2, 2, 8, 0, 2, 5, 7, 5, 1, 2, 6, 0, 9, 3, 8, 8, 3, 3, 8, 0, 7, 5, 7, 9, 0, 1, 6, 7, 6, 7, 2, 1, 2, 6, 4, 2, 5, 8, 2, 2, 8, 6, 8, 0, 7, 7, 8, 5, 1, 1, 3, 4, 7, 8, 7, 0, 2, 6, 2, 3, 1, 2, 8, 4, 1, 8, 5, 9, 5, 0, 3, 2, 0, 6, 5, 3, 6, 7, 1, 8, 0, 1, 2, 2]\n"
     ]
    }
   ],
   "source": [
    "pred_label = predict_data(pred_data, nn)\n",
    "#print(pred_label)\n",
    "final_pred_list = []\n",
    "for one_hot_label in pred_label.tolist():\n",
    "    #print(one_hot_label)\n",
    "    true_label = one_hot_label.index(max(one_hot_label))\n",
    "    final_pred_list.append(true_label)\n",
    "    \n",
    "f = h5py.File('predicted_labels.h5','w')   \n",
    "f['data'] = pred_data \n",
    "f['labels'] = final_pred_list          \n",
    "f.close() \n",
    "\n",
    "print(final_pred_list)"
   ]
  },
  {
   "cell_type": "code",
   "execution_count": 20,
   "metadata": {},
   "outputs": [
    {
     "name": "stdout",
     "output_type": "stream",
     "text": [
      "100\n"
     ]
    }
   ],
   "source": [
    "print(len(final_pred_list))"
   ]
  }
 ],
 "metadata": {
  "kernelspec": {
   "display_name": "Python 3",
   "language": "python",
   "name": "python3"
  },
  "language_info": {
   "codemirror_mode": {
    "name": "ipython",
    "version": 3
   },
   "file_extension": ".py",
   "mimetype": "text/x-python",
   "name": "python",
   "nbconvert_exporter": "python",
   "pygments_lexer": "ipython3",
   "version": "3.6.5"
  }
 },
 "nbformat": 4,
 "nbformat_minor": 2
}
